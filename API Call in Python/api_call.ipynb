{
 "cells": [
  {
   "cell_type": "markdown",
   "id": "f2133500",
   "metadata": {},
   "source": [
    "# API Call in Python\n",
    "\n",
    "check repository\n",
    "\n",
    "https://github.com/kishandongare/creating-API-for-ml-model-and-testing-on-postman-deploy-on-Heroku"
   ]
  },
  {
   "cell_type": "code",
   "execution_count": 34,
   "id": "b0498a6d",
   "metadata": {},
   "outputs": [
    {
     "name": "stdout",
     "output_type": "stream",
     "text": [
      "{\"price\":72265}\n",
      "\n"
     ]
    }
   ],
   "source": [
    "import requests\n",
    "\n",
    "url = \"https://api-testing-1.herokuapp.com/predict\"\n",
    "\n",
    "payload={'Company': 'Apple',\n",
    "'TypeName': 'Ultrabook',\n",
    "'Ram': '8',\n",
    "'Weight': '1.37',\n",
    "'Touchscreen': '0',\n",
    "'Ips': '1',\n",
    "'ppi': '226.983005',\n",
    "'Cpu brand': 'Intel Core i5',\n",
    "'HDD': '0',\n",
    "'SSD': '128',\n",
    "'Gpu brand': 'Intel',\n",
    "'os': 'Mac'}\n",
    "#files=[]\n",
    "#headers = {}\n",
    "\n",
    "response = requests.request(\"POST\",url,data=payload,)\n",
    "\n",
    "print(response.text)"
   ]
  },
  {
   "cell_type": "code",
   "execution_count": null,
   "id": "711a9587",
   "metadata": {},
   "outputs": [],
   "source": []
  }
 ],
 "metadata": {
  "kernelspec": {
   "display_name": "Python 3",
   "language": "python",
   "name": "python3"
  },
  "language_info": {
   "codemirror_mode": {
    "name": "ipython",
    "version": 3
   },
   "file_extension": ".py",
   "mimetype": "text/x-python",
   "name": "python",
   "nbconvert_exporter": "python",
   "pygments_lexer": "ipython3",
   "version": "3.8.8"
  }
 },
 "nbformat": 4,
 "nbformat_minor": 5
}
